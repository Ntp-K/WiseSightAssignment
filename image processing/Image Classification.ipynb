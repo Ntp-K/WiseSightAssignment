{
 "cells": [
  {
   "cell_type": "code",
   "execution_count": 2,
   "id": "9ba7225c-0b8c-4108-8ba9-731ef1abd9e4",
   "metadata": {},
   "outputs": [
    {
     "name": "stdout",
     "output_type": "stream",
     "text": [
      "--2021-08-26 16:52:38--  https://s3.amazonaws.com/content.udacity-data.com/nd089/Cat_Dog_data.zip\n",
      "Resolving s3.amazonaws.com (s3.amazonaws.com)... 52.217.18.150\n",
      "Connecting to s3.amazonaws.com (s3.amazonaws.com)|52.217.18.150|:443... connected.\n",
      "HTTP request sent, awaiting response... 200 OK\n",
      "Length: 580495262 (554M) [application/zip]\n",
      "Saving to: ‘Cat_Dog_data.zip’\n",
      "\n",
      "Cat_Dog_data.zip    100%[===================>] 553.60M  2.82MB/s    in 5m 39s  \n",
      "\n",
      "2021-08-26 16:58:18 (1.63 MB/s) - ‘Cat_Dog_data.zip’ saved [580495262/580495262]\n",
      "\n"
     ]
    }
   ],
   "source": [
    "!wget -c https://s3.amazonaws.com/content.udacity-data.com/nd089/Cat_Dog_data.zip"
   ]
  },
  {
   "cell_type": "code",
   "execution_count": null,
   "id": "4ff0a876-3a34-435c-bf1d-77d300563b7f",
   "metadata": {},
   "outputs": [],
   "source": []
  }
 ],
 "metadata": {
  "kernelspec": {
   "display_name": "Python 3 (ipykernel)",
   "language": "python",
   "name": "python3"
  },
  "language_info": {
   "codemirror_mode": {
    "name": "ipython",
    "version": 3
   },
   "file_extension": ".py",
   "mimetype": "text/x-python",
   "name": "python",
   "nbconvert_exporter": "python",
   "pygments_lexer": "ipython3",
   "version": "3.8.6"
  }
 },
 "nbformat": 4,
 "nbformat_minor": 5
}
