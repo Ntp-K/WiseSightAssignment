{
 "cells": [
  {
   "cell_type": "markdown",
   "id": "gxZAZOMO-zWU",
   "metadata": {
    "id": "gxZAZOMO-zWU"
   },
   "source": [
    "# Prerequisites"
   ]
  },
  {
   "cell_type": "code",
   "execution_count": 126,
   "id": "Q1dk_fEe-s8s",
   "metadata": {
    "id": "Q1dk_fEe-s8s"
   },
   "outputs": [],
   "source": [
    "%%capture\n",
    "!pip install gdown\n",
    "!pip install pythainlp\n",
    "!pip install emoji"
   ]
  },
  {
   "cell_type": "markdown",
   "id": "d3b6051c-2273-428d-8da8-81b9d30afbb7",
   "metadata": {
    "id": "d3b6051c-2273-428d-8da8-81b9d30afbb7",
    "tags": []
   },
   "source": [
    "# Download data"
   ]
  },
  {
   "cell_type": "code",
   "execution_count": null,
   "id": "PdbC2EUN_HeF",
   "metadata": {
    "id": "PdbC2EUN_HeF"
   },
   "outputs": [],
   "source": [
    "!gdown --id 1I6FkY-wppSCt3eB1czmP0hHfcScwMc3s\n",
    "!unzip 'sentiment-assignment.zip'\n",
    "!rm 'sentiment-assignment.zip'"
   ]
  },
  {
   "cell_type": "markdown",
   "id": "fAmwiHVn_Yju",
   "metadata": {
    "id": "fAmwiHVn_Yju",
    "tags": []
   },
   "source": [
    "# Read data"
   ]
  },
  {
   "cell_type": "code",
   "execution_count": 127,
   "id": "e363725b-7222-4a29-bcde-372207cf8c68",
   "metadata": {},
   "outputs": [],
   "source": [
    "# Import require library\n",
    "import numpy as np\n",
    "import pandas as pd\n",
    "import matplotlib.pyplot as plt\n",
    "import os\n",
    "from pythainlp import word_tokenize\n",
    "from pythainlp.ulmfit import process_thai"
   ]
  },
  {
   "cell_type": "code",
   "execution_count": 128,
   "id": "09h9zyafXAT2",
   "metadata": {
    "id": "09h9zyafXAT2"
   },
   "outputs": [],
   "source": [
    "def load_data(path, lable):\n",
    "  data = pd.read_csv( path, sep=\"\\n\", header=None)\n",
    "  data['label'] = [lable] * data.shape[0]\n",
    "  data.columns = ['texts', 'label']\n",
    "\n",
    "  #set lower\n",
    "  data['texts'] = data.texts.map(lambda x: x.lower())\n",
    "\n",
    "  return data"
   ]
  },
  {
   "cell_type": "code",
   "execution_count": 149,
   "id": "uRWog_9xXeKw",
   "metadata": {
    "id": "uRWog_9xXeKw"
   },
   "outputs": [
    {
     "data": {
      "text/plain": [
       "(27504, 2)"
      ]
     },
     "execution_count": 149,
     "metadata": {},
     "output_type": "execute_result"
    }
   ],
   "source": [
    "neg_file_path = os.path.join(os.getcwd(), 'sentiment-assignment/neg.txt')\n",
    "neu_file_path = os.path.join(os.getcwd(), 'sentiment-assignment/neu.txt')\n",
    "pos_file_path = os.path.join(os.getcwd(), 'sentiment-assignment/pos.txt')\n",
    "\n",
    "neg = load_data(neg_file_path, 'negative')\n",
    "neu = load_data(neu_file_path, 'neutral')\n",
    "pos = load_data(pos_file_path, 'positive')\n",
    "\n",
    "df = neg\n",
    "df = df.append(neu, ignore_index = True)\n",
    "df = df.append(pos, ignore_index = True)\n",
    "df = df.sample(frac=1).reset_index(drop=True)\n",
    "df.shape"
   ]
  },
  {
   "cell_type": "code",
   "execution_count": 181,
   "id": "CXuXZiXFYLKx",
   "metadata": {
    "colab": {
     "base_uri": "https://localhost:8080/"
    },
    "id": "CXuXZiXFYLKx",
    "outputId": "60177fb3-c4f6-4068-83b3-81d4cb37232a"
   },
   "outputs": [
    {
     "data": {
      "text/html": [
       "<div>\n",
       "<style scoped>\n",
       "    .dataframe tbody tr th:only-of-type {\n",
       "        vertical-align: middle;\n",
       "    }\n",
       "\n",
       "    .dataframe tbody tr th {\n",
       "        vertical-align: top;\n",
       "    }\n",
       "\n",
       "    .dataframe thead th {\n",
       "        text-align: right;\n",
       "    }\n",
       "</style>\n",
       "<table border=\"1\" class=\"dataframe\">\n",
       "  <thead>\n",
       "    <tr style=\"text-align: right;\">\n",
       "      <th></th>\n",
       "      <th>texts</th>\n",
       "      <th>label</th>\n",
       "      <th>processed</th>\n",
       "      <th>wc</th>\n",
       "      <th>uwc</th>\n",
       "    </tr>\n",
       "  </thead>\n",
       "  <tbody>\n",
       "    <tr>\n",
       "      <th>27499</th>\n",
       "      <td>pony’s picks! crushed lip color ลิปสติกที่ให้ผ...</td>\n",
       "      <td>neutral</td>\n",
       "      <td>pony|’|s|picks|!|crushed|lip|color|ลิปสติก|ที่...</td>\n",
       "      <td>140</td>\n",
       "      <td>97</td>\n",
       "    </tr>\n",
       "    <tr>\n",
       "      <th>27500</th>\n",
       "      <td>มึงงานนี้นะ เราต้องไปเซิ้งท่าหมากัน #chang.</td>\n",
       "      <td>neutral</td>\n",
       "      <td>มึง|งาน|นี้|นะ|เรา|ต้อง|ไป|เซิ้ง|ท่า|หมา|กัน|#...</td>\n",
       "      <td>14</td>\n",
       "      <td>14</td>\n",
       "    </tr>\n",
       "    <tr>\n",
       "      <th>27501</th>\n",
       "      <td>โจมาโลน ครับ</td>\n",
       "      <td>neutral</td>\n",
       "      <td>โจ|มา|โลน|ครับ</td>\n",
       "      <td>4</td>\n",
       "      <td>4</td>\n",
       "    </tr>\n",
       "    <tr>\n",
       "      <th>27502</th>\n",
       "      <td>ไว้ไปลองกันนะะะ</td>\n",
       "      <td>neutral</td>\n",
       "      <td>ไว้|ไป|ลอง|กัน|นะ|ะะ</td>\n",
       "      <td>6</td>\n",
       "      <td>6</td>\n",
       "    </tr>\n",
       "    <tr>\n",
       "      <th>27503</th>\n",
       "      <td>เค้าได้บัตรเอ็มเค มาด้วยยย</td>\n",
       "      <td>neutral</td>\n",
       "      <td>เค้า|ได้|บัตร|เอ็ม|เค|มา|ด้วย|ยย</td>\n",
       "      <td>8</td>\n",
       "      <td>8</td>\n",
       "    </tr>\n",
       "  </tbody>\n",
       "</table>\n",
       "</div>"
      ],
      "text/plain": [
       "                                                   texts    label  \\\n",
       "27499  pony’s picks! crushed lip color ลิปสติกที่ให้ผ...  neutral   \n",
       "27500        มึงงานนี้นะ เราต้องไปเซิ้งท่าหมากัน #chang.  neutral   \n",
       "27501                                       โจมาโลน ครับ  neutral   \n",
       "27502                                    ไว้ไปลองกันนะะะ  neutral   \n",
       "27503                         เค้าได้บัตรเอ็มเค มาด้วยยย  neutral   \n",
       "\n",
       "                                               processed   wc  uwc  \n",
       "27499  pony|’|s|picks|!|crushed|lip|color|ลิปสติก|ที่...  140   97  \n",
       "27500  มึง|งาน|นี้|นะ|เรา|ต้อง|ไป|เซิ้ง|ท่า|หมา|กัน|#...   14   14  \n",
       "27501                                     โจ|มา|โลน|ครับ    4    4  \n",
       "27502                               ไว้|ไป|ลอง|กัน|นะ|ะะ    6    6  \n",
       "27503                   เค้า|ได้|บัตร|เอ็ม|เค|มา|ด้วย|ยย    8    8  "
      ]
     },
     "execution_count": 181,
     "metadata": {},
     "output_type": "execute_result"
    }
   ],
   "source": [
    "# count words and unique words\n",
    "df[\"processed\"] = df.texts.map(lambda x: \"|\".join(process_thai(x)))\n",
    "df[\"wc\"] = df.processed.map(lambda x: len(x.split(\"|\")))\n",
    "df[\"uwc\"] = df.processed.map(lambda x: len(set(x.split(\"|\"))))\n",
    "\n",
    "df.head()"
   ]
  },
  {
   "cell_type": "code",
   "execution_count": 187,
   "id": "8b20cf03-ad08-43e4-8e85-ff8cac8dc045",
   "metadata": {},
   "outputs": [
    {
     "data": {
      "text/plain": [
       "508"
      ]
     },
     "execution_count": 187,
     "metadata": {},
     "output_type": "execute_result"
    }
   ],
   "source": [
    "df.wc.max()"
   ]
  },
  {
   "cell_type": "code",
   "execution_count": 131,
   "id": "1da11de7-c3d1-4626-b969-396da5d6e6d7",
   "metadata": {
    "colab": {
     "base_uri": "https://localhost:8080/"
    },
    "id": "1da11de7-c3d1-4626-b969-396da5d6e6d7",
    "outputId": "55b9dc0e-b742-463b-f057-375d7aa4ab68"
   },
   "outputs": [],
   "source": [
    "# Split data\n",
    "from sklearn.model_selection import train_test_split\n",
    "\n",
    "df_train, df_test = train_test_split(df, test_size = 0.15, stratify=df['label'].values, random_state=0)\n",
    "df_train, df_val = train_test_split(df_train, test_size = 0.15, stratify=df_train['label'].values, random_state=0)\n",
    "\n",
    "df_train = df_train.reset_index(drop=True)\n",
    "df_val = df_val.reset_index(drop=True)\n",
    "df_test = df_test.reset_index(drop=True)"
   ]
  },
  {
   "cell_type": "code",
   "execution_count": 189,
   "id": "ad6c9630-8d31-44ba-8675-052e7b884780",
   "metadata": {},
   "outputs": [
    {
     "data": {
      "text/plain": [
       "(27504, 5)"
      ]
     },
     "execution_count": 189,
     "metadata": {},
     "output_type": "execute_result"
    }
   ],
   "source": [
    "df.shape"
   ]
  },
  {
   "cell_type": "code",
   "execution_count": 132,
   "id": "a640a816-6791-45ff-b9d1-aa2af1b6d85e",
   "metadata": {},
   "outputs": [
    {
     "data": {
      "text/plain": [
       "<Figure size 432x288 with 0 Axes>"
      ]
     },
     "execution_count": 132,
     "metadata": {},
     "output_type": "execute_result"
    },
    {
     "data": {
      "image/png": "[encoded data removed]",
      "text/plain": [
       "<Figure size 1080x216 with 3 Axes>"
      ]
     },
     "metadata": {
      "needs_background": "light"
     },
     "output_type": "display_data"
    },
    {
     "data": {
      "text/plain": [
       "<Figure size 432x288 with 0 Axes>"
      ]
     },
     "metadata": {},
     "output_type": "display_data"
    }
   ],
   "source": [
    "# Plot distribution\n",
    "fig,ax =plt.subplots(1,3,figsize=(15,3))\n",
    "ax[0].hist(df['label'].values)\n",
    "ax[0].set_title('df')\n",
    "ax[1].hist(df_train['label'].values)\n",
    "ax[1].set_title('df_train')\n",
    "ax[2].hist(df_val['label'].values)\n",
    "ax[2].set_title('df_val')\n",
    "plt.figure()"
   ]
  },
  {
   "cell_type": "markdown",
   "id": "72Nmx9GbsllV",
   "metadata": {
    "id": "72Nmx9GbsllV",
    "tags": []
   },
   "source": [
    "# Deep Learning"
   ]
  },
  {
   "cell_type": "markdown",
   "id": "cd39d572-0c21-4097-a474-b68d35997377",
   "metadata": {
    "id": "cd39d572-0c21-4097-a474-b68d35997377",
    "tags": []
   },
   "source": [
    "## Text Preprocessing"
   ]
  },
  {
   "cell_type": "code",
   "execution_count": 133,
   "id": "It3UlgJfd3_b",
   "metadata": {
    "id": "It3UlgJfd3_b"
   },
   "outputs": [],
   "source": [
    "from keras.preprocessing import text\n",
    "from keras.preprocessing import sequence\n",
    "from sklearn import preprocessing"
   ]
  },
  {
   "cell_type": "code",
   "execution_count": 134,
   "id": "e96a519b-dbfa-47eb-b5a6-f00cc402d4ce",
   "metadata": {},
   "outputs": [
    {
     "data": {
      "text/plain": [
       "LabelEncoder()"
      ]
     },
     "execution_count": 134,
     "metadata": {},
     "output_type": "execute_result"
    }
   ],
   "source": [
    "label_encoder = preprocessing.LabelEncoder()\n",
    "label_encoder.fit(['negative', 'neutral', 'positive'])"
   ]
  },
  {
   "cell_type": "code",
   "execution_count": 135,
   "id": "054ac644-7986-4b8e-be71-a5966590cc99",
   "metadata": {},
   "outputs": [],
   "source": [
    "x_train = df_train['texts'].values\n",
    "x_val = df_val['texts'].values\n",
    "x_test = df_test['texts'].values\n",
    "\n",
    "y_train = label_encoder.transform(df_train['label'].values)\n",
    "y_val = label_encoder.transform(df_val['label'].values)\n",
    "y_test = label_encoder.transform(df_test['label'].values)"
   ]
  },
  {
   "cell_type": "code",
   "execution_count": 136,
   "id": "dad0908e-8ab0-4632-aecc-dcae1fe70dbd",
   "metadata": {
    "id": "dad0908e-8ab0-4632-aecc-dcae1fe70dbd"
   },
   "outputs": [],
   "source": [
    "# Define parameter\n",
    "max_word = 50000\n",
    "maxlen = 1000\n",
    "max_features = 50000"
   ]
  },
  {
   "cell_type": "code",
   "execution_count": 137,
   "id": "38749d06-b4c9-47cd-99c0-9203228cd579",
   "metadata": {
    "colab": {
     "base_uri": "https://localhost:8080/"
    },
    "id": "38749d06-b4c9-47cd-99c0-9203228cd579",
    "outputId": "fc872924-df4a-4942-da7c-683fbcd4fc82"
   },
   "outputs": [
    {
     "data": {
      "text/plain": [
       "50000"
      ]
     },
     "execution_count": 137,
     "metadata": {},
     "output_type": "execute_result"
    }
   ],
   "source": [
    "# Define Tokenizer\n",
    "tokenizer = text.Tokenizer(num_words = max_word) #define corpus  to keep maximum number of words \n",
    "tokenizer.fit_on_texts(x_train)\n",
    "tokenizer.num_words"
   ]
  },
  {
   "cell_type": "code",
   "execution_count": null,
   "id": "ZTc7sl34Ca5w",
   "metadata": {
    "id": "ZTc7sl34Ca5w"
   },
   "outputs": [],
   "source": [
    "tokenizer.index_word"
   ]
  },
  {
   "cell_type": "code",
   "execution_count": 138,
   "id": "a4f2e0d8-1fc7-4900-810f-1c5b47ffbc57",
   "metadata": {
    "id": "a4f2e0d8-1fc7-4900-810f-1c5b47ffbc57"
   },
   "outputs": [],
   "source": [
    "def preprocess_fn(data):\n",
    "    sequeces = tokenizer.texts_to_sequences(data)\n",
    "    padding_sequences = sequence.pad_sequences(sequeces,maxlen = maxlen)\n",
    "    \n",
    "    return padding_sequences, sequeces"
   ]
  },
  {
   "cell_type": "code",
   "execution_count": 139,
   "id": "ab942508-6006-445b-b347-9f8c708b4a1b",
   "metadata": {
    "id": "ab942508-6006-445b-b347-9f8c708b4a1b"
   },
   "outputs": [],
   "source": [
    "# Preprocess data\n",
    "x_train_padded, sequeces_x_train =  preprocess_fn(x_train)\n",
    "x_val_padded, sequeces_x_val = preprocess_fn(x_val)"
   ]
  },
  {
   "cell_type": "markdown",
   "id": "Evo0Qi-Q77BZ",
   "metadata": {
    "id": "Evo0Qi-Q77BZ",
    "tags": []
   },
   "source": [
    "## Model Construction"
   ]
  },
  {
   "cell_type": "code",
   "execution_count": 140,
   "id": "5ed7ff95-10d4-4635-8f81-15b961d993ba",
   "metadata": {},
   "outputs": [],
   "source": [
    "import tensorflow as tf\n",
    "from tensorflow import keras\n",
    "from tensorflow.keras import layers, models\n",
    "from tensorflow.keras.layers import Dense, Dropout, Embedding, LSTM, Bidirectional"
   ]
  },
  {
   "cell_type": "code",
   "execution_count": 141,
   "id": "ulaD82hAmNhC",
   "metadata": {
    "id": "ulaD82hAmNhC"
   },
   "outputs": [],
   "source": [
    "def show_result(history): \n",
    "    \n",
    "    # Print the result from the last epoch\n",
    "    print('Last train accuracy: %s'%history.history['acc'][-1])\n",
    "    print('Last validation accuracy: %s'%history.history['val_acc'][-1])\n",
    "    \n",
    "    loss = history.history['loss']\n",
    "    val_loss = history.history['val_loss']\n",
    "    \n",
    "    acc = history.history['acc']\n",
    "    val_acc = history.history['val_acc']\n",
    "    \n",
    "    epochs = range(1, len(loss) + 1)   \n",
    "    \n",
    "    # Define a subplot \n",
    "    fig, axs = plt.subplots(1,2,figsize=(15,4))\n",
    "    \n",
    "    # Plot loss\n",
    "    loss_plot = axs[0]\n",
    "    \n",
    "    loss_plot.plot(epochs, loss, 'c--', label='Training loss')\n",
    "    loss_plot.plot(epochs, val_loss, 'b', label='Validation loss')\n",
    "    loss_plot.set_title('Training and validation loss')\n",
    "    loss_plot.set_xlabel('Epochs')\n",
    "    loss_plot.set_ylabel('Loss')\n",
    "    loss_plot.legend()\n",
    "    \n",
    "    # Plot accuracy\n",
    "    acc_plot = axs[1]\n",
    "    \n",
    "    acc_plot.plot(epochs, acc, 'c--', label='Training acc')\n",
    "    acc_plot.plot(epochs, val_acc, 'b', label='Validation acc')\n",
    "    acc_plot.set_title('Training and validation accuracy')\n",
    "    acc_plot.set_xlabel('Epochs')\n",
    "    acc_plot.set_ylabel('Accuracy')\n",
    "    acc_plot.legend()"
   ]
  },
  {
   "cell_type": "code",
   "execution_count": 142,
   "id": "Yx-lGHxYqOha",
   "metadata": {
    "id": "Yx-lGHxYqOha"
   },
   "outputs": [],
   "source": [
    "def predict_text(text, model):\n",
    "  text, sequences_text = preprocess_fn(text)\n",
    "  result = model.predict(text)\n",
    "\n",
    "  if result[0][0] > 0.5:\n",
    "    print('negative')\n",
    "  elif result[0][0] > 0.5:\n",
    "    print('neutral')\n",
    "  else:\n",
    "    print('positive')"
   ]
  },
  {
   "cell_type": "markdown",
   "id": "smZs8cB2p3r4",
   "metadata": {
    "id": "smZs8cB2p3r4",
    "tags": []
   },
   "source": [
    "### LSTM1 (overfit)"
   ]
  },
  {
   "cell_type": "code",
   "execution_count": 143,
   "id": "e82ee9df-a826-4d53-8912-b4ed2cc06899",
   "metadata": {
    "colab": {
     "base_uri": "https://localhost:8080/"
    },
    "id": "e82ee9df-a826-4d53-8912-b4ed2cc06899",
    "outputId": "f0008ea4-4c38-47d1-f46f-ef7a581c3c86"
   },
   "outputs": [
    {
     "name": "stderr",
     "output_type": "stream",
     "text": [
      "2021-09-01 11:45:36.095062: I tensorflow/compiler/jit/xla_cpu_device.cc:41] Not creating XLA devices, tf_xla_enable_xla_devices not set\n",
      "2021-09-01 11:45:36.096624: I tensorflow/core/platform/cpu_feature_guard.cc:142] This TensorFlow binary is optimized with oneAPI Deep Neural Network Library (oneDNN) to use the following CPU instructions in performance-critical operations:  AVX2 FMA\n",
      "To enable them in other operations, rebuild TensorFlow with the appropriate compiler flags.\n"
     ]
    },
    {
     "name": "stdout",
     "output_type": "stream",
     "text": [
      "Model: \"sequential\"\n",
      "_________________________________________________________________\n",
      "Layer (type)                 Output Shape              Param #   \n",
      "=================================================================\n",
      "embedding (Embedding)        (None, 1000, 32)          1600000   \n",
      "_________________________________________________________________\n",
      "lstm (LSTM)                  (None, 32)                8320      \n",
      "_________________________________________________________________\n",
      "dense (Dense)                (None, 64)                2112      \n",
      "_________________________________________________________________\n",
      "dense_1 (Dense)              (None, 3)                 195       \n",
      "=================================================================\n",
      "Total params: 1,610,627\n",
      "Trainable params: 1,610,627\n",
      "Non-trainable params: 0\n",
      "_________________________________________________________________\n"
     ]
    }
   ],
   "source": [
    "# Define model\n",
    "lstm = models.Sequential()\n",
    "lstm.add(layers.Embedding(max_features,32,input_length=maxlen))\n",
    "lstm.add(layers.LSTM(32))\n",
    "lstm.add(layers.Dense(64,activation='elu'))\n",
    "lstm.add(layers.Dense(3,activation='softmax'))\n",
    "\n",
    "lstm.compile(optimizer='rmsprop',loss='sparse_categorical_crossentropy',metrics=['acc'])\n",
    "lstm.summary()"
   ]
  },
  {
   "cell_type": "code",
   "execution_count": 144,
   "id": "664c7e8a-cd8f-448f-9090-9ec5d3e1225d",
   "metadata": {
    "colab": {
     "base_uri": "https://localhost:8080/"
    },
    "id": "664c7e8a-cd8f-448f-9090-9ec5d3e1225d",
    "outputId": "9b8d850b-7b18-434f-f223-eb94c9467c6f"
   },
   "outputs": [
    {
     "name": "stderr",
     "output_type": "stream",
     "text": [
      "2021-09-01 11:45:44.788160: I tensorflow/compiler/mlir/mlir_graph_optimization_pass.cc:116] None of the MLIR optimization passes are enabled (registered 2)\n"
     ]
    },
    {
     "name": "stdout",
     "output_type": "stream",
     "text": [
      "Epoch 1/10\n",
      "621/621 [==============================] - 177s 283ms/step - loss: 0.9508 - acc: 0.5793 - val_loss: 0.9039 - val_acc: 0.5843\n",
      "Epoch 2/10\n",
      "621/621 [==============================] - 179s 289ms/step - loss: 0.8506 - acc: 0.6341 - val_loss: 0.8875 - val_acc: 0.6025\n",
      "Epoch 3/10\n",
      "621/621 [==============================] - 176s 283ms/step - loss: 0.7352 - acc: 0.7010 - val_loss: 0.9288 - val_acc: 0.6074\n",
      "Epoch 4/10\n",
      "621/621 [==============================] - 176s 284ms/step - loss: 1.5466 - acc: 0.7244 - val_loss: 0.9707 - val_acc: 0.6102\n",
      "Epoch 5/10\n",
      "621/621 [==============================] - 192s 310ms/step - loss: 0.6522 - acc: 0.7780 - val_loss: 1.0764 - val_acc: 0.6039\n",
      "Epoch 6/10\n",
      "621/621 [==============================] - 171s 276ms/step - loss: 0.5044 - acc: 0.8268 - val_loss: 1.1072 - val_acc: 0.6088\n",
      "Epoch 7/10\n",
      "621/621 [==============================] - 173s 278ms/step - loss: 0.4165 - acc: 0.8533 - val_loss: 1.1004 - val_acc: 0.6062\n",
      "Epoch 8/10\n",
      "621/621 [==============================] - 162s 261ms/step - loss: 0.3559 - acc: 0.8693 - val_loss: 1.1233 - val_acc: 0.6059\n",
      "Epoch 9/10\n",
      "621/621 [==============================] - 162s 261ms/step - loss: 0.3308 - acc: 0.8748 - val_loss: 1.0783 - val_acc: 0.6042\n",
      "Epoch 10/10\n",
      "621/621 [==============================] - 157s 252ms/step - loss: 0.3837 - acc: 0.8556 - val_loss: 1.1535 - val_acc: 0.5965\n"
     ]
    }
   ],
   "source": [
    "history_lstm =  lstm.fit(x_train_padded, y_train, epochs=10, batch_size=32, validation_data=(x_val_padded, y_val))"
   ]
  },
  {
   "cell_type": "code",
   "execution_count": 145,
   "id": "wiET81pumPyh",
   "metadata": {
    "colab": {
     "base_uri": "https://localhost:8080/",
     "height": 330
    },
    "id": "wiET81pumPyh",
    "outputId": "24c55517-3bec-4c44-a153-193edec677e4"
   },
   "outputs": [
    {
     "name": "stdout",
     "output_type": "stream",
     "text": [
      "Last train accuracy: 0.8550651669502258\n",
      "Last validation accuracy: 0.596521258354187\n"
     ]
    },
    {
     "data": {
      "image/png": "[encoded data removed]",
      "text/plain": [
       "<Figure size 1080x288 with 2 Axes>"
      ]
     },
     "metadata": {
      "needs_background": "light"
     },
     "output_type": "display_data"
    }
   ],
   "source": [
    "show_result(history_lstm)"
   ]
  },
  {
   "cell_type": "code",
   "execution_count": 146,
   "id": "609f7557-6a70-4361-8105-c21c5257b346",
   "metadata": {},
   "outputs": [],
   "source": [
    "lstm.save_weights(\"model_lstm.h5\")"
   ]
  },
  {
   "cell_type": "markdown",
   "id": "0d8a5404-35ed-442f-a475-aec6e4b45cc2",
   "metadata": {
    "tags": []
   },
   "source": [
    "### LSTM2 add dropout (still overfit)"
   ]
  },
  {
   "cell_type": "code",
   "execution_count": 175,
   "id": "LsJBfYy5qCzo",
   "metadata": {
    "id": "LsJBfYy5qCzo"
   },
   "outputs": [
    {
     "name": "stdout",
     "output_type": "stream",
     "text": [
      "Model: \"sequential_2\"\n",
      "_________________________________________________________________\n",
      "Layer (type)                 Output Shape              Param #   \n",
      "=================================================================\n",
      "embedding_2 (Embedding)      (None, 1000, 32)          1600000   \n",
      "_________________________________________________________________\n",
      "lstm_2 (LSTM)                (None, 32)                8320      \n",
      "_________________________________________________________________\n",
      "dense_4 (Dense)              (None, 64)                2112      \n",
      "_________________________________________________________________\n",
      "dropout_1 (Dropout)          (None, 64)                0         \n",
      "_________________________________________________________________\n",
      "dense_5 (Dense)              (None, 3)                 195       \n",
      "=================================================================\n",
      "Total params: 1,610,627\n",
      "Trainable params: 1,610,627\n",
      "Non-trainable params: 0\n",
      "_________________________________________________________________\n"
     ]
    }
   ],
   "source": [
    "# Define model\n",
    "lstm_2 = models.Sequential()\n",
    "lstm_2.add(layers.Embedding(max_features,32,input_length=maxlen))\n",
    "lstm_2.add(layers.LSTM(32))\n",
    "lstm_2.add(layers.Dense(64,activation='elu'))\n",
    "lstm_2.add(Dropout(0.5))\n",
    "lstm_2.add(layers.Dense(3,activation='softmax'))\n",
    "\n",
    "lstm_2.compile(optimizer='rmsprop',loss='sparse_categorical_crossentropy',metrics=['acc'])\n",
    "lstm_2.summary()"
   ]
  },
  {
   "cell_type": "code",
   "execution_count": 176,
   "id": "3e3fc362-7499-4bda-8dbb-c8f0e6f3afd0",
   "metadata": {},
   "outputs": [
    {
     "name": "stdout",
     "output_type": "stream",
     "text": [
      "Epoch 1/10\n",
      "621/621 [==============================] - 16912s 27s/step - loss: 0.9636 - acc: 0.5765 - val_loss: 0.9100 - val_acc: 0.5820\n",
      "Epoch 2/10\n",
      "621/621 [==============================] - 18856s 30s/step - loss: 0.8701 - acc: 0.6191 - val_loss: 0.9091 - val_acc: 0.5971\n",
      "Epoch 3/10\n",
      "621/621 [==============================] - 138s 222ms/step - loss: 0.7835 - acc: 0.6785 - val_loss: 0.9449 - val_acc: 0.6025\n",
      "Epoch 4/10\n",
      "621/621 [==============================] - 146s 234ms/step - loss: 0.7609 - acc: 0.7211 - val_loss: 0.9437 - val_acc: 0.4827\n",
      "Epoch 5/10\n",
      "621/621 [==============================] - 145s 234ms/step - loss: 0.9844 - acc: 0.6210 - val_loss: 1.0901 - val_acc: 0.4579\n",
      "Epoch 6/10\n",
      "621/621 [==============================] - 146s 236ms/step - loss: 0.5874 - acc: 0.7780 - val_loss: 1.0691 - val_acc: 0.6091\n",
      "Epoch 7/10\n",
      "621/621 [==============================] - 148s 239ms/step - loss: 0.6200 - acc: 0.8069 - val_loss: 1.0917 - val_acc: 0.6068\n",
      "Epoch 8/10\n",
      "621/621 [==============================] - 157s 252ms/step - loss: 0.4211 - acc: 0.8516 - val_loss: 1.1053 - val_acc: 0.6054\n",
      "Epoch 9/10\n",
      "621/621 [==============================] - 151s 243ms/step - loss: 0.5185 - acc: 0.8247 - val_loss: 1.1333 - val_acc: 0.6085\n",
      "Epoch 10/10\n",
      "621/621 [==============================] - 151s 243ms/step - loss: 0.4867 - acc: 0.8273 - val_loss: 1.2148 - val_acc: 0.6108\n"
     ]
    }
   ],
   "source": [
    "history_lstm_2 =  lstm_2.fit(x_train_padded, y_train, epochs=10, batch_size=32, validation_data=(x_val_padded, y_val))"
   ]
  },
  {
   "cell_type": "code",
   "execution_count": 199,
   "id": "f2559cb2-57fc-4b0c-b80b-cbd4f982e459",
   "metadata": {},
   "outputs": [
    {
     "name": "stdout",
     "output_type": "stream",
     "text": [
      "Last train accuracy: 0.8397665023803711\n",
      "Last validation accuracy: 0.6107784509658813\n"
     ]
    },
    {
     "data": {
      "image/png": "[encoded data removed]",
      "text/plain": [
       "<Figure size 1080x288 with 2 Axes>"
      ]
     },
     "metadata": {
      "needs_background": "light"
     },
     "output_type": "display_data"
    }
   ],
   "source": [
    "show_result(history_lstm_2)"
   ]
  },
  {
   "cell_type": "code",
   "execution_count": 207,
   "id": "382892b8-81e9-4ab9-b033-4c4cb1e571a5",
   "metadata": {},
   "outputs": [],
   "source": [
    "lstm_2.save_weights(\"model_lstm_2.h5\")"
   ]
  },
  {
   "cell_type": "markdown",
   "id": "614bdf81-809d-42a0-ac65-6576fdd930d1",
   "metadata": {
    "id": "uirwq-jE2NXg",
    "tags": []
   },
   "source": [
    "### RNN (overfit)"
   ]
  },
  {
   "cell_type": "code",
   "execution_count": 178,
   "id": "kvYjrKBa2Ndl",
   "metadata": {
    "colab": {
     "base_uri": "https://localhost:8080/"
    },
    "id": "kvYjrKBa2Ndl",
    "outputId": "4ecf8b83-897e-4066-eb95-52a41c0868ef"
   },
   "outputs": [
    {
     "name": "stdout",
     "output_type": "stream",
     "text": [
      "Model: \"sequential_3\"\n",
      "_________________________________________________________________\n",
      "Layer (type)                 Output Shape              Param #   \n",
      "=================================================================\n",
      "embedding_3 (Embedding)      (None, 1000, 32)          1600000   \n",
      "_________________________________________________________________\n",
      "simple_rnn (SimpleRNN)       (None, 32)                2080      \n",
      "_________________________________________________________________\n",
      "dense_6 (Dense)              (None, 64)                2112      \n",
      "_________________________________________________________________\n",
      "dense_7 (Dense)              (None, 3)                 195       \n",
      "=================================================================\n",
      "Total params: 1,604,387\n",
      "Trainable params: 1,604,387\n",
      "Non-trainable params: 0\n",
      "_________________________________________________________________\n"
     ]
    }
   ],
   "source": [
    "rnn = models.Sequential()\n",
    "rnn.add(layers.Embedding(max_features,32,input_length=maxlen))\n",
    "rnn.add(layers.SimpleRNN(32))\n",
    "rnn.add(layers.Dense(64,activation='elu'))\n",
    "rnn.add(layers.Dense(3,activation='softmax'))\n",
    "\n",
    "rnn.compile(optimizer='rmsprop',loss='sparse_categorical_crossentropy',metrics=['acc'])\n",
    "rnn.summary()"
   ]
  },
  {
   "cell_type": "code",
   "execution_count": 179,
   "id": "9PeH57kT8Z_C",
   "metadata": {
    "colab": {
     "base_uri": "https://localhost:8080/"
    },
    "id": "9PeH57kT8Z_C",
    "outputId": "61291a03-3c22-43b3-c8f7-b3fdc9660837"
   },
   "outputs": [
    {
     "name": "stdout",
     "output_type": "stream",
     "text": [
      "Epoch 1/10\n",
      "621/621 [==============================] - 80s 127ms/step - loss: 0.9522 - acc: 0.5764 - val_loss: 0.9229 - val_acc: 0.5883\n",
      "Epoch 2/10\n",
      "621/621 [==============================] - 80s 129ms/step - loss: 0.8482 - acc: 0.6240 - val_loss: 0.9345 - val_acc: 0.5922\n",
      "Epoch 3/10\n",
      "621/621 [==============================] - 80s 129ms/step - loss: 0.6714 - acc: 0.7224 - val_loss: 1.0383 - val_acc: 0.5834\n",
      "Epoch 4/10\n",
      "621/621 [==============================] - 80s 129ms/step - loss: 0.5174 - acc: 0.8045 - val_loss: 1.1312 - val_acc: 0.5711\n",
      "Epoch 5/10\n",
      "621/621 [==============================] - 80s 129ms/step - loss: 0.4047 - acc: 0.8454 - val_loss: 1.2785 - val_acc: 0.5540\n",
      "Epoch 6/10\n",
      "621/621 [==============================] - 86s 138ms/step - loss: 0.3799 - acc: 0.8603 - val_loss: 1.3591 - val_acc: 0.4234\n",
      "Epoch 7/10\n",
      "621/621 [==============================] - 79s 127ms/step - loss: 0.3253 - acc: 0.8707 - val_loss: 1.3917 - val_acc: 0.4354\n",
      "Epoch 8/10\n",
      "621/621 [==============================] - 81s 131ms/step - loss: 0.3982 - acc: 0.8539 - val_loss: 1.3761 - val_acc: 0.5609\n",
      "Epoch 9/10\n",
      "621/621 [==============================] - 84s 135ms/step - loss: 0.3283 - acc: 0.8723 - val_loss: 1.3789 - val_acc: 0.5455\n",
      "Epoch 10/10\n",
      "621/621 [==============================] - 80s 128ms/step - loss: 0.3035 - acc: 0.8786 - val_loss: 1.3517 - val_acc: 0.5486\n"
     ]
    }
   ],
   "source": [
    "history_rnn =  rnn.fit(x_train_padded, y_train,epochs=10, batch_size=32,validation_data=(x_val_padded, y_val))\n",
    "#overfitting"
   ]
  },
  {
   "cell_type": "code",
   "execution_count": 209,
   "id": "013039c1-273c-4cc8-93d5-48cce9c00f03",
   "metadata": {},
   "outputs": [
    {
     "name": "stdout",
     "output_type": "stream",
     "text": [
      "Last train accuracy: 0.8764027953147888\n",
      "Last validation accuracy: 0.5486170649528503\n"
     ]
    },
    {
     "data": {
      "image/png": "[encoded data removed]",
      "text/plain": [
       "<Figure size 1080x288 with 2 Axes>"
      ]
     },
     "metadata": {
      "needs_background": "light"
     },
     "output_type": "display_data"
    }
   ],
   "source": [
    "show_result(history_rnn)"
   ]
  },
  {
   "cell_type": "code",
   "execution_count": 208,
   "id": "bRU078ss8g8C",
   "metadata": {
    "colab": {
     "base_uri": "https://localhost:8080/",
     "height": 240
    },
    "id": "bRU078ss8g8C",
    "outputId": "5b802fd3-458e-494a-819a-eef91ec45e57"
   },
   "outputs": [],
   "source": [
    "rnn.save_weights(\"model_rnn.h5\")"
   ]
  },
  {
   "cell_type": "markdown",
   "id": "5TPyvGYfswRB",
   "metadata": {
    "tags": []
   },
   "source": [
    "# Supervise Learning"
   ]
  },
  {
   "cell_type": "markdown",
   "id": "c8bb0a1c-2505-4b0e-9f69-4bb519993ad7",
   "metadata": {},
   "source": [
    "## Create features"
   ]
  },
  {
   "cell_type": "code",
   "execution_count": 151,
   "id": "ad704559-3701-4ffe-9fdc-751a8026fc29",
   "metadata": {},
   "outputs": [],
   "source": [
    "y_train = df_train['label']\n",
    "y_val = df_val['label']\n",
    "y_test = df_test['label']"
   ]
  },
  {
   "cell_type": "code",
   "execution_count": 156,
   "id": "869b0a1a-d07b-4106-87fc-2ab5849133b0",
   "metadata": {},
   "outputs": [
    {
     "data": {
      "text/plain": [
       "['vectorizer.joblib']"
      ]
     },
     "execution_count": 156,
     "metadata": {},
     "output_type": "execute_result"
    }
   ],
   "source": [
    "from sklearn.feature_extraction.text import TfidfVectorizer\n",
    "import joblib\n",
    "\n",
    "tfidf = TfidfVectorizer(ngram_range=(1,2), min_df=20, sublinear_tf=True)\n",
    "tfidf_fit = tfidf.fit(df[\"texts\"])\n",
    "text_train = tfidf_fit.transform(df_train[\"texts\"])\n",
    "text_val = tfidf_fit.transform(df_val[\"texts\"])\n",
    "text_test = tfidf_fit.transform(df_test[\"texts\"])\n",
    "\n",
    "joblib.dump(tfidf_fit, 'vectorizer.joblib')"
   ]
  },
  {
   "cell_type": "code",
   "execution_count": 157,
   "id": "ca575ce7-11ca-4d86-b7e6-90f7e0a3f236",
   "metadata": {},
   "outputs": [
    {
     "data": {
      "text/plain": [
       "['scaler.joblib']"
      ]
     },
     "execution_count": 157,
     "metadata": {},
     "output_type": "execute_result"
    }
   ],
   "source": [
    "from sklearn.preprocessing import StandardScaler\n",
    "\n",
    "scaler = StandardScaler()\n",
    "scaler_fit = scaler.fit(df[[\"wc\",\"uwc\"]].astype(float))\n",
    "num_train = scaler_fit.transform(df_train[[\"wc\",\"uwc\"]].astype(float))\n",
    "num_val = scaler_fit.transform(df_val[[\"wc\",\"uwc\"]].astype(float))\n",
    "num_test = scaler_fit.transform(df_test[[\"wc\",\"uwc\"]].astype(float))\n",
    "\n",
    "joblib.dump(scaler_fit, 'scaler.joblib')"
   ]
  },
  {
   "cell_type": "code",
   "execution_count": 158,
   "id": "77ab786b-0c3a-4943-accf-17ed31b7b154",
   "metadata": {},
   "outputs": [
    {
     "data": {
      "text/plain": [
       "((19871, 3046), (3507, 3046))"
      ]
     },
     "execution_count": 158,
     "metadata": {},
     "output_type": "execute_result"
    }
   ],
   "source": [
    "x_train = np.concatenate([num_train,text_train.toarray()],axis=1)\n",
    "x_val = np.concatenate([num_val,text_val.toarray()],axis=1)\n",
    "x_test = np.concatenate([num_test,text_test.toarray()],axis=1)\n",
    "x_train.shape, x_val.shape"
   ]
  },
  {
   "cell_type": "code",
   "execution_count": 162,
   "id": "16659596-0ab2-47e7-9c18-9cd81a401e63",
   "metadata": {},
   "outputs": [
    {
     "data": {
      "text/plain": [
       "0.6832050185343599"
      ]
     },
     "execution_count": 162,
     "metadata": {},
     "output_type": "execute_result"
    }
   ],
   "source": [
    "#fit logistic regression models\n",
    "from sklearn.linear_model import LogisticRegression\n",
    "from sklearn.metrics import accuracy_score\n",
    "\n",
    "model = LogisticRegression(C=2, penalty=\"l2\", solver=\"liblinear\", dual=False, multi_class=\"ovr\")\n",
    "model.fit(x_train,y_train)\n",
    "model.score(x_val, y_val)"
   ]
  },
  {
   "cell_type": "code",
   "execution_count": 163,
   "id": "ebd65a2b-01ef-495c-8134-fada2cee1398",
   "metadata": {},
   "outputs": [
    {
     "data": {
      "text/plain": [
       "['model_LogR.joblib']"
      ]
     },
     "execution_count": 163,
     "metadata": {},
     "output_type": "execute_result"
    }
   ],
   "source": [
    "joblib.dump(model, 'model_LogR.joblib')"
   ]
  },
  {
   "cell_type": "code",
   "execution_count": 164,
   "id": "ee788b2f-cad6-40e8-b89c-45a7e2021d0e",
   "metadata": {},
   "outputs": [
    {
     "data": {
      "text/html": [
       "<div>\n",
       "<style scoped>\n",
       "    .dataframe tbody tr th:only-of-type {\n",
       "        vertical-align: middle;\n",
       "    }\n",
       "\n",
       "    .dataframe tbody tr th {\n",
       "        vertical-align: top;\n",
       "    }\n",
       "\n",
       "    .dataframe thead th {\n",
       "        text-align: right;\n",
       "    }\n",
       "</style>\n",
       "<table border=\"1\" class=\"dataframe\">\n",
       "  <thead>\n",
       "    <tr style=\"text-align: right;\">\n",
       "      <th></th>\n",
       "      <th>negative</th>\n",
       "      <th>neutral</th>\n",
       "      <th>positive</th>\n",
       "      <th>preds</th>\n",
       "      <th>label</th>\n",
       "      <th>texts</th>\n",
       "      <th>hit</th>\n",
       "    </tr>\n",
       "  </thead>\n",
       "  <tbody>\n",
       "    <tr>\n",
       "      <th>0</th>\n",
       "      <td>0.422965</td>\n",
       "      <td>0.473471</td>\n",
       "      <td>0.103564</td>\n",
       "      <td>neutral</td>\n",
       "      <td>negative</td>\n",
       "      <td>ขับง่ายกว่าวีออสเยอะเลย</td>\n",
       "      <td>False</td>\n",
       "    </tr>\n",
       "    <tr>\n",
       "      <th>1</th>\n",
       "      <td>0.022180</td>\n",
       "      <td>0.965377</td>\n",
       "      <td>0.012443</td>\n",
       "      <td>neutral</td>\n",
       "      <td>neutral</td>\n",
       "      <td>แอดมินขออภัยในเหตุการณ์ที่เกิดขึ้นจากใจจริงมา ...</td>\n",
       "      <td>True</td>\n",
       "    </tr>\n",
       "    <tr>\n",
       "      <th>2</th>\n",
       "      <td>0.395265</td>\n",
       "      <td>0.464918</td>\n",
       "      <td>0.139818</td>\n",
       "      <td>neutral</td>\n",
       "      <td>neutral</td>\n",
       "      <td>สามารถซื้อหน้าร้านกลับบ้านได้ค่ะ แต่ไม่ร่วมบริ...</td>\n",
       "      <td>True</td>\n",
       "    </tr>\n",
       "    <tr>\n",
       "      <th>3</th>\n",
       "      <td>0.058990</td>\n",
       "      <td>0.680631</td>\n",
       "      <td>0.260378</td>\n",
       "      <td>neutral</td>\n",
       "      <td>neutral</td>\n",
       "      <td>ก็คือบีทสมกับเป็นมอนอะ ฟังจากดอยสุเทพ ก็รู้ว่า...</td>\n",
       "      <td>True</td>\n",
       "    </tr>\n",
       "    <tr>\n",
       "      <th>4</th>\n",
       "      <td>0.244163</td>\n",
       "      <td>0.591474</td>\n",
       "      <td>0.164363</td>\n",
       "      <td>neutral</td>\n",
       "      <td>neutral</td>\n",
       "      <td>ออเจ้า ข้าอยากเหลือเกิน</td>\n",
       "      <td>True</td>\n",
       "    </tr>\n",
       "    <tr>\n",
       "      <th>...</th>\n",
       "      <td>...</td>\n",
       "      <td>...</td>\n",
       "      <td>...</td>\n",
       "      <td>...</td>\n",
       "      <td>...</td>\n",
       "      <td>...</td>\n",
       "      <td>...</td>\n",
       "    </tr>\n",
       "    <tr>\n",
       "      <th>3502</th>\n",
       "      <td>0.732671</td>\n",
       "      <td>0.227775</td>\n",
       "      <td>0.039554</td>\n",
       "      <td>negative</td>\n",
       "      <td>negative</td>\n",
       "      <td>เหล้าขาว แพงกว่าไฮเนเก้น</td>\n",
       "      <td>True</td>\n",
       "    </tr>\n",
       "    <tr>\n",
       "      <th>3503</th>\n",
       "      <td>0.202186</td>\n",
       "      <td>0.682268</td>\n",
       "      <td>0.115546</td>\n",
       "      <td>neutral</td>\n",
       "      <td>neutral</td>\n",
       "      <td>: รหัสตัวแรงครั้งแรกใน suv ของค่าย มากับเครื่อ...</td>\n",
       "      <td>True</td>\n",
       "    </tr>\n",
       "    <tr>\n",
       "      <th>3504</th>\n",
       "      <td>0.545910</td>\n",
       "      <td>0.240194</td>\n",
       "      <td>0.213896</td>\n",
       "      <td>negative</td>\n",
       "      <td>negative</td>\n",
       "      <td>สเมอนอฟอีเล้คทริคบลูรสชาติเหี้ยมาก</td>\n",
       "      <td>True</td>\n",
       "    </tr>\n",
       "    <tr>\n",
       "      <th>3505</th>\n",
       "      <td>0.113948</td>\n",
       "      <td>0.614541</td>\n",
       "      <td>0.271511</td>\n",
       "      <td>neutral</td>\n",
       "      <td>negative</td>\n",
       "      <td>น่ากลัว 😟 เอาใจช่วยขอให้ปลอดภัยทุกคน 🙏 #พายุปาบึก</td>\n",
       "      <td>False</td>\n",
       "    </tr>\n",
       "    <tr>\n",
       "      <th>3506</th>\n",
       "      <td>0.609002</td>\n",
       "      <td>0.269789</td>\n",
       "      <td>0.121209</td>\n",
       "      <td>negative</td>\n",
       "      <td>negative</td>\n",
       "      <td>เพื่อนเป็นช่างแต่งหน้า รีวิวลิปเมย์เบลลีนสุดฮิ...</td>\n",
       "      <td>True</td>\n",
       "    </tr>\n",
       "  </tbody>\n",
       "</table>\n",
       "<p>3507 rows × 7 columns</p>\n",
       "</div>"
      ],
      "text/plain": [
       "      negative   neutral  positive     preds     label  \\\n",
       "0     0.422965  0.473471  0.103564   neutral  negative   \n",
       "1     0.022180  0.965377  0.012443   neutral   neutral   \n",
       "2     0.395265  0.464918  0.139818   neutral   neutral   \n",
       "3     0.058990  0.680631  0.260378   neutral   neutral   \n",
       "4     0.244163  0.591474  0.164363   neutral   neutral   \n",
       "...        ...       ...       ...       ...       ...   \n",
       "3502  0.732671  0.227775  0.039554  negative  negative   \n",
       "3503  0.202186  0.682268  0.115546   neutral   neutral   \n",
       "3504  0.545910  0.240194  0.213896  negative  negative   \n",
       "3505  0.113948  0.614541  0.271511   neutral  negative   \n",
       "3506  0.609002  0.269789  0.121209  negative  negative   \n",
       "\n",
       "                                                  texts    hit  \n",
       "0                               ขับง่ายกว่าวีออสเยอะเลย  False  \n",
       "1     แอดมินขออภัยในเหตุการณ์ที่เกิดขึ้นจากใจจริงมา ...   True  \n",
       "2     สามารถซื้อหน้าร้านกลับบ้านได้ค่ะ แต่ไม่ร่วมบริ...   True  \n",
       "3     ก็คือบีทสมกับเป็นมอนอะ ฟังจากดอยสุเทพ ก็รู้ว่า...   True  \n",
       "4                               ออเจ้า ข้าอยากเหลือเกิน   True  \n",
       "...                                                 ...    ...  \n",
       "3502                           เหล้าขาว แพงกว่าไฮเนเก้น   True  \n",
       "3503  : รหัสตัวแรงครั้งแรกใน suv ของค่าย มากับเครื่อ...   True  \n",
       "3504                 สเมอนอฟอีเล้คทริคบลูรสชาติเหี้ยมาก   True  \n",
       "3505  น่ากลัว 😟 เอาใจช่วยขอให้ปลอดภัยทุกคน 🙏 #พายุปาบึก  False  \n",
       "3506  เพื่อนเป็นช่างแต่งหน้า รีวิวลิปเมย์เบลลีนสุดฮิ...   True  \n",
       "\n",
       "[3507 rows x 7 columns]"
      ]
     },
     "execution_count": 164,
     "metadata": {},
     "output_type": "execute_result"
    }
   ],
   "source": [
    "probs = model.predict_proba(x_val)\n",
    "probs_df = pd.DataFrame(probs)\n",
    "probs_df.columns = model.classes_\n",
    "probs_df[\"preds\"] = model.predict(x_val)\n",
    "probs_df[\"label\"] = df_val.label\n",
    "probs_df[\"texts\"] = df_val.texts\n",
    "probs_df[\"hit\"] = (probs_df.preds==probs_df.label)\n",
    "probs_df"
   ]
  },
  {
   "cell_type": "code",
   "execution_count": 165,
   "id": "0c3bff1c-ff18-4499-8642-d870b9a585a8",
   "metadata": {},
   "outputs": [
    {
     "name": "stdout",
     "output_type": "stream",
     "text": [
      "0.6832050185343599\n"
     ]
    },
    {
     "data": {
      "image/png": "[encoded data removed]",
      "text/plain": [
       "<Figure size 432x288 with 2 Axes>"
      ]
     },
     "metadata": {
      "needs_background": "light"
     },
     "output_type": "display_data"
    }
   ],
   "source": [
    "from sklearn.metrics import confusion_matrix\n",
    "import seaborn as sns\n",
    "\n",
    "conf_mat = confusion_matrix(probs_df.label,probs_df.preds)\n",
    "print(model.score(x_val,y_val))\n",
    "sns.heatmap(conf_mat, annot=True, fmt=\"d\",\n",
    "            xticklabels=model.classes_, yticklabels=model.classes_)\n",
    "plt.ylabel(\"Actual\")\n",
    "plt.xlabel(\"Predicted\")\n",
    "plt.show()"
   ]
  },
  {
   "cell_type": "code",
   "execution_count": 179,
   "id": "9d8a82ec-e69d-49bb-8bda-6ef9d44d501d",
   "metadata": {},
   "outputs": [],
   "source": [
    "false_df = probs_df.loc[probs_df['hit'] == False]"
   ]
  },
  {
   "cell_type": "code",
   "execution_count": 180,
   "id": "8fe43e92-a9de-4126-ad71-f5e0798c73e6",
   "metadata": {},
   "outputs": [
    {
     "data": {
      "text/html": [
       "<div>\n",
       "<style scoped>\n",
       "    .dataframe tbody tr th:only-of-type {\n",
       "        vertical-align: middle;\n",
       "    }\n",
       "\n",
       "    .dataframe tbody tr th {\n",
       "        vertical-align: top;\n",
       "    }\n",
       "\n",
       "    .dataframe thead th {\n",
       "        text-align: right;\n",
       "    }\n",
       "</style>\n",
       "<table border=\"1\" class=\"dataframe\">\n",
       "  <thead>\n",
       "    <tr style=\"text-align: right;\">\n",
       "      <th></th>\n",
       "      <th>negative</th>\n",
       "      <th>neutral</th>\n",
       "      <th>positive</th>\n",
       "      <th>preds</th>\n",
       "      <th>label</th>\n",
       "      <th>texts</th>\n",
       "      <th>hit</th>\n",
       "    </tr>\n",
       "  </thead>\n",
       "  <tbody>\n",
       "    <tr>\n",
       "      <th>0</th>\n",
       "      <td>0.422965</td>\n",
       "      <td>0.473471</td>\n",
       "      <td>0.103564</td>\n",
       "      <td>neutral</td>\n",
       "      <td>negative</td>\n",
       "      <td>ขับง่ายกว่าวีออสเยอะเลย</td>\n",
       "      <td>False</td>\n",
       "    </tr>\n",
       "    <tr>\n",
       "      <th>8</th>\n",
       "      <td>0.176452</td>\n",
       "      <td>0.541444</td>\n",
       "      <td>0.282104</td>\n",
       "      <td>neutral</td>\n",
       "      <td>positive</td>\n",
       "      <td>จะเลี้ยงหรา</td>\n",
       "      <td>False</td>\n",
       "    </tr>\n",
       "    <tr>\n",
       "      <th>14</th>\n",
       "      <td>0.464961</td>\n",
       "      <td>0.489640</td>\n",
       "      <td>0.045398</td>\n",
       "      <td>neutral</td>\n",
       "      <td>negative</td>\n",
       "      <td>อวสานโลกสวย ใครจะไปคิดว่าจะเจอกับตัวเอง อีเหี้...</td>\n",
       "      <td>False</td>\n",
       "    </tr>\n",
       "    <tr>\n",
       "      <th>15</th>\n",
       "      <td>0.428441</td>\n",
       "      <td>0.491261</td>\n",
       "      <td>0.080298</td>\n",
       "      <td>neutral</td>\n",
       "      <td>negative</td>\n",
       "      <td>innisfree วิตซี it's skin เราหน้ามันใช้แล้วมัน...</td>\n",
       "      <td>False</td>\n",
       "    </tr>\n",
       "    <tr>\n",
       "      <th>16</th>\n",
       "      <td>0.732722</td>\n",
       "      <td>0.238732</td>\n",
       "      <td>0.028545</td>\n",
       "      <td>negative</td>\n",
       "      <td>neutral</td>\n",
       "      <td>ไม่มีสมอง</td>\n",
       "      <td>False</td>\n",
       "    </tr>\n",
       "    <tr>\n",
       "      <th>17</th>\n",
       "      <td>0.651788</td>\n",
       "      <td>0.260793</td>\n",
       "      <td>0.087419</td>\n",
       "      <td>negative</td>\n",
       "      <td>neutral</td>\n",
       "      <td>ใช่ครับ เห็นมีรถมาสด้ามาเช็คระยะด้วย</td>\n",
       "      <td>False</td>\n",
       "    </tr>\n",
       "    <tr>\n",
       "      <th>18</th>\n",
       "      <td>0.092394</td>\n",
       "      <td>0.766832</td>\n",
       "      <td>0.140773</td>\n",
       "      <td>neutral</td>\n",
       "      <td>negative</td>\n",
       "      <td>บุหรี่นอกเกาหลี เขมรซองละ 25 มาไทยซองละ 5-60 ต...</td>\n",
       "      <td>False</td>\n",
       "    </tr>\n",
       "    <tr>\n",
       "      <th>21</th>\n",
       "      <td>0.321644</td>\n",
       "      <td>0.602834</td>\n",
       "      <td>0.075523</td>\n",
       "      <td>neutral</td>\n",
       "      <td>negative</td>\n",
       "      <td>ว่าจะไปกินเป็ดย่างเอ็มเคซะหน่อย อ่าว เป็ดอยู่ใ...</td>\n",
       "      <td>False</td>\n",
       "    </tr>\n",
       "    <tr>\n",
       "      <th>24</th>\n",
       "      <td>0.573547</td>\n",
       "      <td>0.337968</td>\n",
       "      <td>0.088485</td>\n",
       "      <td>negative</td>\n",
       "      <td>neutral</td>\n",
       "      <td>ทษช รู้เรื่องนี้แล้ว เพราะตามรัฐธรรมนูญ 60 ได้...</td>\n",
       "      <td>False</td>\n",
       "    </tr>\n",
       "    <tr>\n",
       "      <th>27</th>\n",
       "      <td>0.110398</td>\n",
       "      <td>0.664710</td>\n",
       "      <td>0.224892</td>\n",
       "      <td>neutral</td>\n",
       "      <td>positive</td>\n",
       "      <td>จัดไปค่ะ</td>\n",
       "      <td>False</td>\n",
       "    </tr>\n",
       "    <tr>\n",
       "      <th>30</th>\n",
       "      <td>0.110398</td>\n",
       "      <td>0.664710</td>\n",
       "      <td>0.224892</td>\n",
       "      <td>neutral</td>\n",
       "      <td>positive</td>\n",
       "      <td>ลงชื่อตรงไหนครับ</td>\n",
       "      <td>False</td>\n",
       "    </tr>\n",
       "    <tr>\n",
       "      <th>33</th>\n",
       "      <td>0.244859</td>\n",
       "      <td>0.422387</td>\n",
       "      <td>0.332754</td>\n",
       "      <td>neutral</td>\n",
       "      <td>positive</td>\n",
       "      <td>นี่ใช้ของ l'oreal ทุกอย่างเลยคะ</td>\n",
       "      <td>False</td>\n",
       "    </tr>\n",
       "    <tr>\n",
       "      <th>35</th>\n",
       "      <td>0.762637</td>\n",
       "      <td>0.217163</td>\n",
       "      <td>0.020200</td>\n",
       "      <td>negative</td>\n",
       "      <td>neutral</td>\n",
       "      <td>ใส่ผ้าอนามัยแบบวันมามากหรือแพมเพิสเลยจ้า</td>\n",
       "      <td>False</td>\n",
       "    </tr>\n",
       "    <tr>\n",
       "      <th>37</th>\n",
       "      <td>0.030050</td>\n",
       "      <td>0.745214</td>\n",
       "      <td>0.224735</td>\n",
       "      <td>neutral</td>\n",
       "      <td>positive</td>\n",
       "      <td>วันๆหาแต่ของกิน</td>\n",
       "      <td>False</td>\n",
       "    </tr>\n",
       "    <tr>\n",
       "      <th>38</th>\n",
       "      <td>0.078069</td>\n",
       "      <td>0.814530</td>\n",
       "      <td>0.107401</td>\n",
       "      <td>neutral</td>\n",
       "      <td>positive</td>\n",
       "      <td>ตัวนิแซบกว่าเพื่อน</td>\n",
       "      <td>False</td>\n",
       "    </tr>\n",
       "    <tr>\n",
       "      <th>40</th>\n",
       "      <td>0.172638</td>\n",
       "      <td>0.565663</td>\n",
       "      <td>0.261699</td>\n",
       "      <td>neutral</td>\n",
       "      <td>positive</td>\n",
       "      <td>ชื่อ เอสเปรสโซ คุณชาย กาแฟดำ mk นะมี แต่โปรโมช...</td>\n",
       "      <td>False</td>\n",
       "    </tr>\n",
       "    <tr>\n",
       "      <th>51</th>\n",
       "      <td>0.418441</td>\n",
       "      <td>0.528209</td>\n",
       "      <td>0.053350</td>\n",
       "      <td>neutral</td>\n",
       "      <td>negative</td>\n",
       "      <td>ณ. เวลานี้ ทฤษฎีต่างๆมันช่าง ตีกันมะลุงตุงนัง ...</td>\n",
       "      <td>False</td>\n",
       "    </tr>\n",
       "    <tr>\n",
       "      <th>53</th>\n",
       "      <td>0.116282</td>\n",
       "      <td>0.661440</td>\n",
       "      <td>0.222278</td>\n",
       "      <td>neutral</td>\n",
       "      <td>negative</td>\n",
       "      <td>ที่กำแพงเพชรมีโปรไหมคัฟ</td>\n",
       "      <td>False</td>\n",
       "    </tr>\n",
       "    <tr>\n",
       "      <th>55</th>\n",
       "      <td>0.108493</td>\n",
       "      <td>0.665749</td>\n",
       "      <td>0.225758</td>\n",
       "      <td>neutral</td>\n",
       "      <td>positive</td>\n",
       "      <td>วันไหนล่ะ</td>\n",
       "      <td>False</td>\n",
       "    </tr>\n",
       "    <tr>\n",
       "      <th>57</th>\n",
       "      <td>0.389566</td>\n",
       "      <td>0.544385</td>\n",
       "      <td>0.066049</td>\n",
       "      <td>neutral</td>\n",
       "      <td>positive</td>\n",
       "      <td>📣 อันละ 100- 3ce mini hand mirror กระจกพกพา 3c...</td>\n",
       "      <td>False</td>\n",
       "    </tr>\n",
       "  </tbody>\n",
       "</table>\n",
       "</div>"
      ],
      "text/plain": [
       "    negative   neutral  positive     preds     label  \\\n",
       "0   0.422965  0.473471  0.103564   neutral  negative   \n",
       "8   0.176452  0.541444  0.282104   neutral  positive   \n",
       "14  0.464961  0.489640  0.045398   neutral  negative   \n",
       "15  0.428441  0.491261  0.080298   neutral  negative   \n",
       "16  0.732722  0.238732  0.028545  negative   neutral   \n",
       "17  0.651788  0.260793  0.087419  negative   neutral   \n",
       "18  0.092394  0.766832  0.140773   neutral  negative   \n",
       "21  0.321644  0.602834  0.075523   neutral  negative   \n",
       "24  0.573547  0.337968  0.088485  negative   neutral   \n",
       "27  0.110398  0.664710  0.224892   neutral  positive   \n",
       "30  0.110398  0.664710  0.224892   neutral  positive   \n",
       "33  0.244859  0.422387  0.332754   neutral  positive   \n",
       "35  0.762637  0.217163  0.020200  negative   neutral   \n",
       "37  0.030050  0.745214  0.224735   neutral  positive   \n",
       "38  0.078069  0.814530  0.107401   neutral  positive   \n",
       "40  0.172638  0.565663  0.261699   neutral  positive   \n",
       "51  0.418441  0.528209  0.053350   neutral  negative   \n",
       "53  0.116282  0.661440  0.222278   neutral  negative   \n",
       "55  0.108493  0.665749  0.225758   neutral  positive   \n",
       "57  0.389566  0.544385  0.066049   neutral  positive   \n",
       "\n",
       "                                                texts    hit  \n",
       "0                             ขับง่ายกว่าวีออสเยอะเลย  False  \n",
       "8                                         จะเลี้ยงหรา  False  \n",
       "14  อวสานโลกสวย ใครจะไปคิดว่าจะเจอกับตัวเอง อีเหี้...  False  \n",
       "15  innisfree วิตซี it's skin เราหน้ามันใช้แล้วมัน...  False  \n",
       "16                                          ไม่มีสมอง  False  \n",
       "17               ใช่ครับ เห็นมีรถมาสด้ามาเช็คระยะด้วย  False  \n",
       "18  บุหรี่นอกเกาหลี เขมรซองละ 25 มาไทยซองละ 5-60 ต...  False  \n",
       "21  ว่าจะไปกินเป็ดย่างเอ็มเคซะหน่อย อ่าว เป็ดอยู่ใ...  False  \n",
       "24  ทษช รู้เรื่องนี้แล้ว เพราะตามรัฐธรรมนูญ 60 ได้...  False  \n",
       "27                                           จัดไปค่ะ  False  \n",
       "30                                   ลงชื่อตรงไหนครับ  False  \n",
       "33                    นี่ใช้ของ l'oreal ทุกอย่างเลยคะ  False  \n",
       "35           ใส่ผ้าอนามัยแบบวันมามากหรือแพมเพิสเลยจ้า  False  \n",
       "37                                    วันๆหาแต่ของกิน  False  \n",
       "38                                 ตัวนิแซบกว่าเพื่อน  False  \n",
       "40  ชื่อ เอสเปรสโซ คุณชาย กาแฟดำ mk นะมี แต่โปรโมช...  False  \n",
       "51  ณ. เวลานี้ ทฤษฎีต่างๆมันช่าง ตีกันมะลุงตุงนัง ...  False  \n",
       "53                            ที่กำแพงเพชรมีโปรไหมคัฟ  False  \n",
       "55                                          วันไหนล่ะ  False  \n",
       "57  📣 อันละ 100- 3ce mini hand mirror กระจกพกพา 3c...  False  "
      ]
     },
     "execution_count": 180,
     "metadata": {},
     "output_type": "execute_result"
    }
   ],
   "source": [
    "false_df.head(20)"
   ]
  },
  {
   "cell_type": "markdown",
   "id": "48c10cb3-6cd0-43a5-950c-a62492f12555",
   "metadata": {},
   "source": [
    "### prediction"
   ]
  },
  {
   "cell_type": "code",
   "execution_count": 168,
   "id": "d5c4b401-6895-428f-9d12-698f43870f5a",
   "metadata": {},
   "outputs": [],
   "source": [
    "def predict_text2(text, model):\n",
    "    text_processed = process_thai(text)\n",
    "    text_wc = len(text_processed)\n",
    "    text_uwc = len(set(text_processed))\n",
    "    \n",
    "    data = {'text': [text], 'wc': [text_wc], 'uwc': [text_uwc]}\n",
    "    df_predict = pd.DataFrame(data)\n",
    "    \n",
    "    text_predict = vectorizer_loadded.transform(df_predict['text'])\n",
    "    num_predict = scaler_loadded.transform(df_predict[[\"wc\",\"uwc\"]].astype(float))\n",
    "    x_predict = np.concatenate([num_predict,text_predict.toarray()],axis=1)\n",
    "    \n",
    "    result = model_loaded.predict(x_predict)\n",
    "    \n",
    "    return result[0]"
   ]
  },
  {
   "cell_type": "code",
   "execution_count": 169,
   "id": "5e558486-a19c-4977-b86b-20920ef86561",
   "metadata": {},
   "outputs": [],
   "source": [
    "model_loaded = joblib.load('model_LogR.joblib')\n",
    "vectorizer_loadded = joblib.load('vectorizer.joblib')\n",
    "scaler_loadded = joblib.load('scaler.joblib')"
   ]
  },
  {
   "cell_type": "code",
   "execution_count": 170,
   "id": "c1f5f904-763f-4328-a4d9-f39bef146b38",
   "metadata": {},
   "outputs": [
    {
     "data": {
      "text/plain": [
       "'neutral'"
      ]
     },
     "execution_count": 170,
     "metadata": {},
     "output_type": "execute_result"
    }
   ],
   "source": [
    "text = 'สวัสดีวันนี้อากาศดีมากๆ'\n",
    "predict_text2(text, model)"
   ]
  }
 ],
 "metadata": {
  "accelerator": "GPU",
  "colab": {
   "collapsed_sections": [],
   "name": "Sentiment Analysis Classification.ipynb",
   "provenance": []
  },
  "kernelspec": {
   "display_name": "Python 3 (ipykernel)",
   "language": "python",
   "name": "python3"
  },
  "language_info": {
   "codemirror_mode": {
    "name": "ipython",
    "version": 3
   },
   "file_extension": ".py",
   "mimetype": "text/x-python",
   "name": "python",
   "nbconvert_exporter": "python",
   "pygments_lexer": "ipython3",
   "version": "3.8.6"
  }
 },
 "nbformat": 4,
 "nbformat_minor": 5
}
