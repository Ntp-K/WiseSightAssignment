{
 "cells": [
  {
   "cell_type": "code",
   "execution_count": null,
   "id": "b761f39d-0072-4491-be43-947b8e09ba42",
   "metadata": {},
   "outputs": [],
   "source": [
    "%%capture\n",
    "!pip install gdown\n",
    "!pip install pythainlp\n",
    "!pip install emoji"
   ]
  },
  {
   "cell_type": "code",
   "execution_count": null,
   "id": "47e7b220-44c9-462f-a6c9-6d9932b8acfa",
   "metadata": {},
   "outputs": [],
   "source": [
    "!gdown --id 1I6FkY-wppSCt3eB1czmP0hHfcScwMc3s\n",
    "!unzip 'sentiment-assignment.zip'\n",
    "!rm 'sentiment-assignment.zip'"
   ]
  },
  {
   "cell_type": "code",
   "execution_count": 12,
   "id": "e36025f3-1eea-43b6-8a38-86ec0d529cb7",
   "metadata": {},
   "outputs": [],
   "source": [
    "# Import require library\n",
    "import numpy as np\n",
    "import pandas as pd\n",
    "import matplotlib.pyplot as plt\n",
    "import os\n",
    "from pythainlp import word_tokenize\n",
    "from pythainlp.ulmfit import process_thai\n",
    "from pythainlp.tag.named_entity import ThaiNameTagger"
   ]
  },
  {
   "cell_type": "code",
   "execution_count": 49,
   "id": "1348d04a-7bfb-4382-b7f4-88c443db2651",
   "metadata": {},
   "outputs": [],
   "source": [
    "def load_data(path):\n",
    "  data = pd.read_csv( path, sep=\"\\n\", header=None)\n",
    "  data.columns = ['texts']\n",
    "\n",
    "  #set lower\n",
    "  data['texts'] = data.texts.map(lambda x: x.lower())\n",
    "\n",
    "  return data"
   ]
  },
  {
   "cell_type": "code",
   "execution_count": 50,
   "id": "9181bee4-6777-452b-bf01-fc1b9cc8f04e",
   "metadata": {},
   "outputs": [
    {
     "name": "stdout",
     "output_type": "stream",
     "text": [
      "(28055, 1)\n"
     ]
    },
    {
     "data": {
      "text/html": [
       "<div>\n",
       "<style scoped>\n",
       "    .dataframe tbody tr th:only-of-type {\n",
       "        vertical-align: middle;\n",
       "    }\n",
       "\n",
       "    .dataframe tbody tr th {\n",
       "        vertical-align: top;\n",
       "    }\n",
       "\n",
       "    .dataframe thead th {\n",
       "        text-align: right;\n",
       "    }\n",
       "</style>\n",
       "<table border=\"1\" class=\"dataframe\">\n",
       "  <thead>\n",
       "    <tr style=\"text-align: right;\">\n",
       "      <th></th>\n",
       "      <th>texts</th>\n",
       "    </tr>\n",
       "  </thead>\n",
       "  <tbody>\n",
       "    <tr>\n",
       "      <th>0</th>\n",
       "      <td>งืม</td>\n",
       "    </tr>\n",
       "    <tr>\n",
       "      <th>1</th>\n",
       "      <td>คิดว่าไม่เเพงนะเพราะกินตั้ง13คนคิดเเล้วก็คนประ...</td>\n",
       "    </tr>\n",
       "    <tr>\n",
       "      <th>2</th>\n",
       "      <td>ช้าง1..สิงห์1..ไฮเนเก้น1..😭😭😭😭😭</td>\n",
       "    </tr>\n",
       "    <tr>\n",
       "      <th>3</th>\n",
       "      <td>เบียร์ช้างดื่มแล้วพูดภาษาอังกฤษคล่องด้วยครับ</td>\n",
       "    </tr>\n",
       "    <tr>\n",
       "      <th>4</th>\n",
       "      <td>แพ้ผ้าอนามัย t t</td>\n",
       "    </tr>\n",
       "  </tbody>\n",
       "</table>\n",
       "</div>"
      ],
      "text/plain": [
       "                                               texts\n",
       "0                                                งืม\n",
       "1  คิดว่าไม่เเพงนะเพราะกินตั้ง13คนคิดเเล้วก็คนประ...\n",
       "2                    ช้าง1..สิงห์1..ไฮเนเก้น1..😭😭😭😭😭\n",
       "3       เบียร์ช้างดื่มแล้วพูดภาษาอังกฤษคล่องด้วยครับ\n",
       "4                                   แพ้ผ้าอนามัย t t"
      ]
     },
     "execution_count": 50,
     "metadata": {},
     "output_type": "execute_result"
    }
   ],
   "source": [
    "neg_file_path = os.path.join(os.getcwd(), 'sentiment-assignment/neg.txt')\n",
    "neu_file_path = os.path.join(os.getcwd(), 'sentiment-assignment/neu.txt')\n",
    "pos_file_path = os.path.join(os.getcwd(), 'sentiment-assignment/pos.txt')\n",
    "q_file_path = os.path.join(os.getcwd(), 'sentiment-assignment/q.txt')\n",
    "\n",
    "df = load_data(neg_file_path)\n",
    "df = df.append(load_data(neu_file_path))\n",
    "df = df.append(load_data(pos_file_path))\n",
    "df = df.append(load_data(q_file_path))\n",
    "df = df.sample(frac=1).reset_index(drop=True)\n",
    "print(df.shape)\n",
    "df.head()"
   ]
  },
  {
   "cell_type": "markdown",
   "id": "dafa534f-ce94-4604-bf4c-dff09925fe9c",
   "metadata": {},
   "source": [
    "# Preprocessing"
   ]
  },
  {
   "cell_type": "code",
   "execution_count": 51,
   "id": "33e6b6f4-a99a-4663-97d0-8d587449c48d",
   "metadata": {},
   "outputs": [
    {
     "data": {
      "text/plain": [
       "(23846, 4209)"
      ]
     },
     "execution_count": 51,
     "metadata": {},
     "output_type": "execute_result"
    }
   ],
   "source": [
    "# Split data\n",
    "from sklearn.model_selection import train_test_split\n",
    "\n",
    "df_train, df_test = train_test_split(df, test_size = 0.15, random_state=0)\n",
    "df_train = df_train.reset_index(drop=True)\n",
    "df_test = df_test.reset_index(drop=True)\n",
    "\n",
    "df_train.shape[0], df_test.shape[0]"
   ]
  },
  {
   "cell_type": "markdown",
   "id": "8b87125b-0ee5-44c7-9362-38ec7c661beb",
   "metadata": {},
   "source": [
    "## tagging"
   ]
  },
  {
   "cell_type": "code",
   "execution_count": 55,
   "id": "4a5f9978-c89f-4de2-825e-4164c2646071",
   "metadata": {},
   "outputs": [],
   "source": [
    "def tag_name(text):\n",
    "    tagged = ner.get_ner(text, pos=True)\n",
    "    word = []\n",
    "    pos_tag = []\n",
    "    ner_tag = []\n",
    "    for tag in tagged:\n",
    "        word.append(tag[0])\n",
    "        pos_tag.append(tag[1])\n",
    "        ner_tag.append(tag[2])\n",
    "    return word, pos_tag, ner_tag\n",
    "\n",
    "def tag_df(df):\n",
    "    word_list = []\n",
    "    pos_tag_list = []\n",
    "    ner_tag_list = []\n",
    "    for text in df['texts']:\n",
    "        word, pos_tag, ner_tag = tag_name(text)\n",
    "        word_list.append(word)\n",
    "        pos_tag_list.append(pos_tag)\n",
    "        ner_tag_list.append(ner_tag)\n",
    "    \n",
    "    data = []\n",
    "    for i in range(len(word_list)):\n",
    "        d = [word_list[i], pos_tag_list[i], ner_tag_list[i]]\n",
    "        data.append(d)\n",
    "    \n",
    "    df = pd.DataFrame(data = data, columns = ['words', 'pos', 'ner'])\n",
    "    return df"
   ]
  },
  {
   "cell_type": "code",
   "execution_count": 56,
   "id": "9299b16b-46ce-46d7-9d92-a79db6fff526",
   "metadata": {},
   "outputs": [
    {
     "name": "stdout",
     "output_type": "stream",
     "text": [
      "shape before tag : (23846, 1)\n",
      "shape after tag : (23846, 3)\n"
     ]
    }
   ],
   "source": [
    "ner = ThaiNameTagger()\n",
    "\n",
    "print('shape before tag :', df_train.shape)\n",
    "df_train = tag_df(df_train)\n",
    "df_test = tag_df(df_test)\n",
    "print('shape after tag :', df_train.shape)"
   ]
  },
  {
   "cell_type": "code",
   "execution_count": 62,
   "id": "56a3ac05-38ce-4b39-b17a-5691dcef4e79",
   "metadata": {},
   "outputs": [
    {
     "data": {
      "text/html": [
       "<div>\n",
       "<style scoped>\n",
       "    .dataframe tbody tr th:only-of-type {\n",
       "        vertical-align: middle;\n",
       "    }\n",
       "\n",
       "    .dataframe tbody tr th {\n",
       "        vertical-align: top;\n",
       "    }\n",
       "\n",
       "    .dataframe thead th {\n",
       "        text-align: right;\n",
       "    }\n",
       "</style>\n",
       "<table border=\"1\" class=\"dataframe\">\n",
       "  <thead>\n",
       "    <tr style=\"text-align: right;\">\n",
       "      <th></th>\n",
       "      <th>words</th>\n",
       "      <th>pos</th>\n",
       "      <th>ner</th>\n",
       "    </tr>\n",
       "  </thead>\n",
       "  <tbody>\n",
       "    <tr>\n",
       "      <th>772</th>\n",
       "      <td>[ตะ, เตือน, ไต]</td>\n",
       "      <td>[NN, VV, NN]</td>\n",
       "      <td>[O, O, O]</td>\n",
       "    </tr>\n",
       "    <tr>\n",
       "      <th>14300</th>\n",
       "      <td>[คุณ, ลูกค้า, สามารถ, เข้าไป, อ่าน, รายละเอียด...</td>\n",
       "      <td>[NN, NN, AX, VV, VV, NN, NN, AV, VV, PS, PU, N...</td>\n",
       "      <td>[B-PERSON, I-PERSON, O, O, O, O, O, O, O, O, O...</td>\n",
       "    </tr>\n",
       "    <tr>\n",
       "      <th>2655</th>\n",
       "      <td>[25, นะ]</td>\n",
       "      <td>[NU, PA]</td>\n",
       "      <td>[B-ORGANIZATION, I-ORGANIZATION]</td>\n",
       "    </tr>\n",
       "    <tr>\n",
       "      <th>17235</th>\n",
       "      <td>[มา, ทาน, ที่, สาขา, เซ, นท, รัล, รัตนาธิเบศร์...</td>\n",
       "      <td>[AV, VV, PS, NN, NN, NN, NN, NN, PU, AX, NN, N...</td>\n",
       "      <td>[O, O, O, B-LOCATION, I-LOCATION, I-LOCATION, ...</td>\n",
       "    </tr>\n",
       "    <tr>\n",
       "      <th>10069</th>\n",
       "      <td>[ใช้, นาวา, รา,  , มา,  , 4,  , ปี,  , ไม, วิ่...</td>\n",
       "      <td>[VV, NN, NN, PU, AV, PU, NU, PU, CL, PU, NN, V...</td>\n",
       "      <td>[O, O, O, O, O, O, B-TIME, I-TIME, I-TIME, O, ...</td>\n",
       "    </tr>\n",
       "    <tr>\n",
       "      <th>1685</th>\n",
       "      <td>[รถยนต์, โตโยต้า, ไฮลักซ์, รุ่น, ที่, หาย, ไป,...</td>\n",
       "      <td>[NN, NN, NN, NN, CC, VV, AV, VV, PU, NN, PU, N...</td>\n",
       "      <td>[O, O, O, O, O, O, O, O, O, O, O, O, O, O]</td>\n",
       "    </tr>\n",
       "    <tr>\n",
       "      <th>5695</th>\n",
       "      <td>[สงสาร, นาง, นะ,  , เจอ, บุหรี่, ไฟฟ้า, ก็, ยึ...</td>\n",
       "      <td>[VV, NN, PA, PU, VV, NN, NN, CC, VV, AV, VV, P...</td>\n",
       "      <td>[O, B-PERSON, I-PERSON, I-PERSON, I-PERSON, I-...</td>\n",
       "    </tr>\n",
       "    <tr>\n",
       "      <th>5821</th>\n",
       "      <td>[กว่า, จะ, ร็อก, เท่า, วันนี้,  , ใน, ทุกวัน, ...</td>\n",
       "      <td>[CC, AX, VV, VV, NN, PU, PS, NN, NN, PR, CC, V...</td>\n",
       "      <td>[O, O, O, O, B-DATE, O, O, O, O, O, O, O, O, O...</td>\n",
       "    </tr>\n",
       "    <tr>\n",
       "      <th>15738</th>\n",
       "      <td>[อยุธยา, ไม่, เห็น, มี]</td>\n",
       "      <td>[NN, NG, VV, VV]</td>\n",
       "      <td>[B-LOCATION, O, O, O]</td>\n",
       "    </tr>\n",
       "    <tr>\n",
       "      <th>5242</th>\n",
       "      <td>[ใคร, จะ, ใส่, ชุด, ไทย, ไป, กิน,  , ค่า, ชุด,...</td>\n",
       "      <td>[PR, AX, VV, NN, NN, AV, VV, PU, NN, NN, VV, A...</td>\n",
       "      <td>[O, O, O, O, B-LOCATION, O, O, O, O, O, O, O, ...</td>\n",
       "    </tr>\n",
       "  </tbody>\n",
       "</table>\n",
       "</div>"
      ],
      "text/plain": [
       "                                                   words  \\\n",
       "772                                      [ตะ, เตือน, ไต]   \n",
       "14300  [คุณ, ลูกค้า, สามารถ, เข้าไป, อ่าน, รายละเอียด...   \n",
       "2655                                            [25, นะ]   \n",
       "17235  [มา, ทาน, ที่, สาขา, เซ, นท, รัล, รัตนาธิเบศร์...   \n",
       "10069  [ใช้, นาวา, รา,  , มา,  , 4,  , ปี,  , ไม, วิ่...   \n",
       "1685   [รถยนต์, โตโยต้า, ไฮลักซ์, รุ่น, ที่, หาย, ไป,...   \n",
       "5695   [สงสาร, นาง, นะ,  , เจอ, บุหรี่, ไฟฟ้า, ก็, ยึ...   \n",
       "5821   [กว่า, จะ, ร็อก, เท่า, วันนี้,  , ใน, ทุกวัน, ...   \n",
       "15738                            [อยุธยา, ไม่, เห็น, มี]   \n",
       "5242   [ใคร, จะ, ใส่, ชุด, ไทย, ไป, กิน,  , ค่า, ชุด,...   \n",
       "\n",
       "                                                     pos  \\\n",
       "772                                         [NN, VV, NN]   \n",
       "14300  [NN, NN, AX, VV, VV, NN, NN, AV, VV, PS, PU, N...   \n",
       "2655                                            [NU, PA]   \n",
       "17235  [AV, VV, PS, NN, NN, NN, NN, NN, PU, AX, NN, N...   \n",
       "10069  [VV, NN, NN, PU, AV, PU, NU, PU, CL, PU, NN, V...   \n",
       "1685   [NN, NN, NN, NN, CC, VV, AV, VV, PU, NN, PU, N...   \n",
       "5695   [VV, NN, PA, PU, VV, NN, NN, CC, VV, AV, VV, P...   \n",
       "5821   [CC, AX, VV, VV, NN, PU, PS, NN, NN, PR, CC, V...   \n",
       "15738                                   [NN, NG, VV, VV]   \n",
       "5242   [PR, AX, VV, NN, NN, AV, VV, PU, NN, NN, VV, A...   \n",
       "\n",
       "                                                     ner  \n",
       "772                                            [O, O, O]  \n",
       "14300  [B-PERSON, I-PERSON, O, O, O, O, O, O, O, O, O...  \n",
       "2655                    [B-ORGANIZATION, I-ORGANIZATION]  \n",
       "17235  [O, O, O, B-LOCATION, I-LOCATION, I-LOCATION, ...  \n",
       "10069  [O, O, O, O, O, O, B-TIME, I-TIME, I-TIME, O, ...  \n",
       "1685          [O, O, O, O, O, O, O, O, O, O, O, O, O, O]  \n",
       "5695   [O, B-PERSON, I-PERSON, I-PERSON, I-PERSON, I-...  \n",
       "5821   [O, O, O, O, B-DATE, O, O, O, O, O, O, O, O, O...  \n",
       "15738                              [B-LOCATION, O, O, O]  \n",
       "5242   [O, O, O, O, B-LOCATION, O, O, O, O, O, O, O, ...  "
      ]
     },
     "execution_count": 62,
     "metadata": {},
     "output_type": "execute_result"
    }
   ],
   "source": [
    "df_train.sample(10)"
   ]
  },
  {
   "cell_type": "markdown",
   "id": "7d282472-387c-474c-8b3a-8524cc50d537",
   "metadata": {},
   "source": [
    "## padding"
   ]
  },
  {
   "cell_type": "code",
   "execution_count": null,
   "id": "3726f039-258d-4654-a07d-c60032c90b55",
   "metadata": {},
   "outputs": [],
   "source": [
    "from keras.preprocessing import sequence"
   ]
  },
  {
   "cell_type": "code",
   "execution_count": null,
   "id": "73a02f18-9ae5-4b49-8aea-1b3afb6068b1",
   "metadata": {},
   "outputs": [],
   "source": []
  }
 ],
 "metadata": {
  "kernelspec": {
   "display_name": "Python 3 (ipykernel)",
   "language": "python",
   "name": "python3"
  },
  "language_info": {
   "codemirror_mode": {
    "name": "ipython",
    "version": 3
   },
   "file_extension": ".py",
   "mimetype": "text/x-python",
   "name": "python",
   "nbconvert_exporter": "python",
   "pygments_lexer": "ipython3",
   "version": "3.8.6"
  }
 },
 "nbformat": 4,
 "nbformat_minor": 5
}
